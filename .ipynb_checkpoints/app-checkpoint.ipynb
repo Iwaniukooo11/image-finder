{
 "cells": [
  {
   "cell_type": "code",
   "execution_count": 91,
   "metadata": {},
   "outputs": [
    {
     "name": "stdout",
     "output_type": "stream",
     "text": [
      "start\n"
     ]
    }
   ],
   "source": [
    "print('start')\n",
    "import torch\n",
    "import numpy as np\n",
    "from PIL import Image\n",
    "import imagehash\n",
    "import cv2\n"
   ]
  },
  {
   "cell_type": "code",
   "execution_count": 92,
   "metadata": {},
   "outputs": [],
   "source": [
    "small = Image.open('data/small-2-blur.png')"
   ]
  },
  {
   "cell_type": "code",
   "execution_count": 93,
   "metadata": {},
   "outputs": [],
   "source": [
    "big = Image.open('data/big.png')\n",
    "big_color=big"
   ]
  },
  {
   "cell_type": "code",
   "execution_count": 94,
   "metadata": {},
   "outputs": [],
   "source": [
    "small = small.resize((64,64))\n",
    "big=big.resize((256,256))\n",
    "\n",
    "small=small.rotate(10)"
   ]
  },
  {
   "cell_type": "code",
   "execution_count": 95,
   "metadata": {},
   "outputs": [],
   "source": [
    "result=0"
   ]
  },
  {
   "cell_type": "code",
   "execution_count": 96,
   "metadata": {},
   "outputs": [
    {
     "name": "stdout",
     "output_type": "stream",
     "text": [
      ":)\n"
     ]
    }
   ],
   "source": [
    "for i in range(256-65):\n",
    "    if i%5!=0:\n",
    "        continue\n",
    "        \n",
    "    for j in range(256-64):\n",
    "        if j%5!=0:\n",
    "            continue\n",
    "        \n",
    "        left=i\n",
    "        right = i+ 64\n",
    "        \n",
    "        top=j\n",
    "        bottom = j+64\n",
    "        crop=big.crop((left,top,right,bottom))\n",
    "\n",
    "        hash0=imagehash.average_hash(small)\n",
    "        hash1=imagehash.average_hash(crop)\n",
    "        \n",
    "#         to do - ogarnąc lepszy sposob na compare img\n",
    "        if hash0 - hash1 <17:\n",
    "            cv_big = np.array(big_color.convert('RGB'))\n",
    "            cv_big=cv_big[:,:,::-1].copy()\n",
    "            \n",
    "            start_point=(left,top)\n",
    "            end_point=(right,bottom)\n",
    "            color=(0,0,255)\n",
    "            thickness=2\n",
    "            result=cv2.rectangle(cv_big,start_point,end_point,color,thickness)\n",
    "            result = cv2.cvtColor(result,cv2.COLOR_BGR2RGB)\n",
    "            big_color=Image.fromarray(result)\n",
    "#             cv2.imshow('image',result)\n",
    "#             cv2.imwrite('results/border.png',result)\n",
    "            \n",
    "            crop.save('results/result.png')\n",
    "            print(':)')\n",
    "        \n",
    "# cv2.imwrite('results/border.png',big_color)\n",
    "\n"
   ]
  },
  {
   "cell_type": "code",
   "execution_count": 97,
   "metadata": {},
   "outputs": [
    {
     "name": "stdout",
     "output_type": "stream",
     "text": [
      "end\n"
     ]
    }
   ],
   "source": [
    "big_color.save('results/final_border.png')\n",
    "       \n",
    "        \n",
    "print('end')"
   ]
  },
  {
   "cell_type": "code",
   "execution_count": null,
   "metadata": {},
   "outputs": [],
   "source": []
  },
  {
   "cell_type": "code",
   "execution_count": null,
   "metadata": {},
   "outputs": [],
   "source": []
  }
 ],
 "metadata": {
  "kernelspec": {
   "display_name": "Python 3",
   "language": "python",
   "name": "python3"
  },
  "language_info": {
   "codemirror_mode": {
    "name": "ipython",
    "version": 3
   },
   "file_extension": ".py",
   "mimetype": "text/x-python",
   "name": "python",
   "nbconvert_exporter": "python",
   "pygments_lexer": "ipython3",
   "version": "3.7.5rc1"
  }
 },
 "nbformat": 4,
 "nbformat_minor": 4
}
