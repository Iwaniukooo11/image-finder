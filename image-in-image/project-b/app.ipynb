{
 "cells": [
  {
   "cell_type": "code",
   "execution_count": 125,
   "metadata": {},
   "outputs": [],
   "source": [
    "import os\n",
    "import cv2\n",
    "import numpy as np\n",
    "import torch\n",
    "from PIL import Image\n",
    "from os import mkdir,path\n",
    "from shutil import rmtree\n"
   ]
  },
  {
   "cell_type": "code",
   "execution_count": 126,
   "metadata": {},
   "outputs": [],
   "source": [
    "\n",
    "if path.isdir('test'):\n",
    "    rmtree('test')\n",
    "if path.isdir('results'):\n",
    "    rmtree('results')"
   ]
  },
  {
   "cell_type": "code",
   "execution_count": 127,
   "metadata": {},
   "outputs": [],
   "source": [
    "mkdir('test')\n",
    "mkdir('results')"
   ]
  },
  {
   "cell_type": "code",
   "execution_count": 128,
   "metadata": {},
   "outputs": [],
   "source": [
    "big = cv2.imread('big.png')\n",
    "big_border=big.copy()\n",
    "small=Image.open('small.png')\n",
    "small=small.convert('RGBA')\n",
    "\n",
    "small = small.rotate(40)"
   ]
  },
  {
   "cell_type": "code",
   "execution_count": 129,
   "metadata": {},
   "outputs": [],
   "source": [
    "if path.isdir('results'):\n",
    "    rmtree('results')\n",
    "\n",
    "mkdir('results')"
   ]
  },
  {
   "cell_type": "code",
   "execution_count": 130,
   "metadata": {},
   "outputs": [
    {
     "name": "stdout",
     "output_type": "stream",
     "text": [
      "(66, 70, 3)\n",
      "(66, 70, 3)\n",
      "(66, 70, 3)\n",
      "(66, 70, 3)\n",
      "(66, 70, 3)\n",
      "(66, 70, 3)\n",
      "(66, 70, 3)\n",
      "(66, 70, 3)\n",
      "(66, 70, 3)\n",
      "(66, 70, 3)\n",
      "(66, 70, 3)\n",
      "(66, 70, 3)\n",
      "(66, 70, 3)\n",
      "(66, 70, 3)\n",
      "(66, 70, 3)\n",
      "(66, 70, 3)\n",
      "(66, 70, 3)\n",
      "(66, 70, 3)\n",
      "(66, 70, 3)\n",
      "(66, 70, 3)\n",
      "(66, 70, 3)\n",
      "(66, 70, 3)\n",
      "(66, 70, 3)\n",
      "(66, 70, 3)\n",
      "(66, 70, 3)\n",
      "(66, 70, 3)\n",
      "(66, 70, 3)\n",
      "(66, 70, 3)\n",
      "(66, 70, 3)\n",
      "(66, 70, 3)\n",
      "(66, 70, 3)\n",
      "(66, 70, 3)\n",
      "(66, 70, 3)\n",
      "(66, 70, 3)\n",
      "(66, 70, 3)\n",
      "(66, 70, 3)\n"
     ]
    },
    {
     "data": {
      "text/plain": [
       "True"
      ]
     },
     "execution_count": 130,
     "metadata": {},
     "output_type": "execute_result"
    }
   ],
   "source": [
    "for i in range(36):\n",
    "    smallForm=small\n",
    "    smallForm=smallForm.rotate((i+1)*10)\n",
    "    smallForm=smallForm.convert('RGB')\n",
    "    \n",
    "    smallForm.save('test/{}.png'.format(i))\n",
    "    \n",
    "    cv_small= np.array(smallForm)\n",
    "    cv_small = cv_small[:, :, ::-1].copy() \n",
    "    \n",
    "    template = cv_small\n",
    "    w, h = template.shape[:-1]\n",
    "    \n",
    "    res = cv2.matchTemplate(big, template, cv2.TM_CCOEFF_NORMED)\n",
    "    threshold = 0.5\n",
    "    loc = np.where(res >= threshold)\n",
    "    \n",
    "    print(template.shape)\n",
    "    \n",
    "    for pt in zip(*loc[::-1]):  # Switch collumns and rows\n",
    "        cv2.rectangle(big_border, pt, (pt[0]+ h, pt[1]+ w),(0, 0, 255), 2)\n",
    "        \n",
    "cv2.imwrite('results/final_border.png', big_border)\n"
   ]
  },
  {
   "cell_type": "code",
   "execution_count": null,
   "metadata": {},
   "outputs": [],
   "source": []
  }
 ],
 "metadata": {
  "kernelspec": {
   "display_name": "Python 3",
   "language": "python",
   "name": "python3"
  },
  "language_info": {
   "codemirror_mode": {
    "name": "ipython",
    "version": 3
   },
   "file_extension": ".py",
   "mimetype": "text/x-python",
   "name": "python",
   "nbconvert_exporter": "python",
   "pygments_lexer": "ipython3",
   "version": "3.7.5rc1"
  }
 },
 "nbformat": 4,
 "nbformat_minor": 4
}
