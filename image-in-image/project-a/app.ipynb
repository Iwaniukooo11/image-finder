{
 "cells": [
  {
   "cell_type": "code",
   "execution_count": 286,
   "metadata": {},
   "outputs": [
    {
     "name": "stdout",
     "output_type": "stream",
     "text": [
      "start\n"
     ]
    }
   ],
   "source": [
    "print('start')\n",
    "import torch\n",
    "import numpy as np\n",
    "from PIL import Image\n",
    "import imagehash\n",
    "import cv2\n",
    "from shutil import rmtree\n",
    "from os import mkdir,path\n"
   ]
  },
  {
   "cell_type": "code",
   "execution_count": 287,
   "metadata": {},
   "outputs": [],
   "source": [
    "# !!basic folder operartions\n",
    "if path.isdir('test'):\n",
    "    rmtree('test')\n",
    "if path.isdir('results'):\n",
    "    rmtree('results')"
   ]
  },
  {
   "cell_type": "code",
   "execution_count": 288,
   "metadata": {},
   "outputs": [],
   "source": [
    "mkdir('test')\n",
    "mkdir('test/small')\n",
    "mkdir('test/crop')\n",
    "mkdir('results')"
   ]
  },
  {
   "cell_type": "code",
   "execution_count": 289,
   "metadata": {},
   "outputs": [],
   "source": [
    "color=(0,0,255)\n",
    "thickness=2"
   ]
  },
  {
   "cell_type": "code",
   "execution_count": 290,
   "metadata": {},
   "outputs": [],
   "source": [
    "small = Image.open('data/small-2-blur-rotate.png')"
   ]
  },
  {
   "cell_type": "code",
   "execution_count": 291,
   "metadata": {},
   "outputs": [],
   "source": [
    "big = Image.open('data/big.png')\n",
    "big_color=big"
   ]
  },
  {
   "cell_type": "code",
   "execution_count": 292,
   "metadata": {},
   "outputs": [],
   "source": [
    "small = small.resize((64,64))\n",
    "big=big.resize((256,256))\n",
    "\n",
    "small=small.convert('RGBA')\n",
    "# small=small.rotate(45,expand=1)\n",
    "# small.save('results/rotate45-2.png')\n",
    "# small=small.rotate(45)\n",
    "# small.save('results/rotate45-3.png')\n",
    "\n",
    "# sv=small.rotate(45)\n",
    "# sv.save('results/rotate-45-3.png')\n"
   ]
  },
  {
   "cell_type": "code",
   "execution_count": 293,
   "metadata": {},
   "outputs": [],
   "source": [
    "result=0"
   ]
  },
  {
   "cell_type": "code",
   "execution_count": 294,
   "metadata": {},
   "outputs": [
    {
     "name": "stdout",
     "output_type": "stream",
     "text": [
      "(45, 90) (109, 154)\n",
      "(50, 95) (114, 159)\n",
      "(55, 125) (119, 189)\n",
      "(140, 105) (204, 169)\n",
      "(150, 55) (214, 119)\n"
     ]
    }
   ],
   "source": [
    "for i in range(256-64):\n",
    "    if i%5!=0:\n",
    "        continue\n",
    "        \n",
    "    for j in range(256-64):\n",
    "        if j%5!=0:\n",
    "            continue\n",
    "        \n",
    "        left=i\n",
    "        right = i+ 64\n",
    "        \n",
    "        top=j\n",
    "        bottom = j+64\n",
    "        \n",
    "        start_point=(left,top)\n",
    "        end_point=(right,bottom)\n",
    "        \n",
    "        crop=big.crop((left,top,right,bottom))\n",
    "\n",
    "#         hash0=imagehash.average_hash(small)\n",
    "        hash1=imagehash.average_hash(crop)\n",
    "        for r in range(360):\n",
    "            if r%5!=0:\n",
    "                continue                    \n",
    "            \n",
    "            small_test=small.rotate(r)\n",
    "            small_test=small_test.resize((64,64))\n",
    "#             small_test=small\n",
    "\n",
    "            hash0=imagehash.average_hash(small_test)\n",
    "            \n",
    "           \n",
    "            if hash0 - hash1 <15:\n",
    "                cv_big = np.array(big_color.convert('RGB'))\n",
    "                cv_big=cv_big[:,:,::-1].copy()\n",
    "\n",
    "                result=cv2.rectangle(cv_big,start_point,end_point,color,thickness)\n",
    "                result = cv2.cvtColor(result,cv2.COLOR_BGR2RGB)\n",
    "                big_color=Image.fromarray(result)\n",
    "\n",
    "                small_test.save('test/small/{}-{}-{}.png'.format(i,j,r))\n",
    "                crop.save('test/crop/{}-{}-{}.png'.format(i,j,r))\n",
    "                \n",
    "                print(start_point,end_point)\n",
    "                break\n",
    "            \n",
    "        \n",
    "\n"
   ]
  },
  {
   "cell_type": "code",
   "execution_count": 295,
   "metadata": {},
   "outputs": [
    {
     "name": "stdout",
     "output_type": "stream",
     "text": [
      "end\n"
     ]
    }
   ],
   "source": [
    "big_color.save('results/final_border.png')      \n",
    "        \n",
    "print('end')"
   ]
  },
  {
   "cell_type": "code",
   "execution_count": null,
   "metadata": {},
   "outputs": [],
   "source": []
  },
  {
   "cell_type": "code",
   "execution_count": null,
   "metadata": {},
   "outputs": [],
   "source": []
  }
 ],
 "metadata": {
  "kernelspec": {
   "display_name": "Python 3",
   "language": "python",
   "name": "python3"
  },
  "language_info": {
   "codemirror_mode": {
    "name": "ipython",
    "version": 3
   },
   "file_extension": ".py",
   "mimetype": "text/x-python",
   "name": "python",
   "nbconvert_exporter": "python",
   "pygments_lexer": "ipython3",
   "version": "3.7.5rc1"
  }
 },
 "nbformat": 4,
 "nbformat_minor": 4
}
