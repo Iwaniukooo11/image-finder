{
 "cells": [
  {
   "cell_type": "code",
   "execution_count": 558,
   "metadata": {},
   "outputs": [
    {
     "name": "stdout",
     "output_type": "stream",
     "text": [
      "start\n"
     ]
    }
   ],
   "source": [
    "print('start')\n",
    "import torch\n",
    "import numpy as np\n",
    "from PIL import Image\n",
    "import imagehash\n",
    "import cv2\n",
    "from shutil import rmtree\n",
    "from os import mkdir,path\n"
   ]
  },
  {
   "cell_type": "code",
   "execution_count": 559,
   "metadata": {},
   "outputs": [
    {
     "ename": "SyntaxError",
     "evalue": "invalid syntax (<ipython-input-559-ffb12b927cc1>, line 1)",
     "output_type": "error",
     "traceback": [
      "\u001b[0;36m  File \u001b[0;32m\"<ipython-input-559-ffb12b927cc1>\"\u001b[0;36m, line \u001b[0;32m1\u001b[0m\n\u001b[0;31m    if path.isdir('test')\u001b[0m\n\u001b[0m                         ^\u001b[0m\n\u001b[0;31mSyntaxError\u001b[0m\u001b[0;31m:\u001b[0m invalid syntax\n"
     ]
    }
   ],
   "source": [
    "if path.isdir('test')\n",
    "    rmtree('test')\n",
    "if path.isdir('results')\n",
    "    rmtree('results')"
   ]
  },
  {
   "cell_type": "code",
   "execution_count": null,
   "metadata": {},
   "outputs": [],
   "source": [
    "mkdir('test')\n",
    "mkdir('test/small')\n",
    "mkdir('test/crop')\n",
    "mkdir('results')"
   ]
  },
  {
   "cell_type": "code",
   "execution_count": null,
   "metadata": {},
   "outputs": [],
   "source": [
    "color=(0,0,255)\n",
    "thickness=2"
   ]
  },
  {
   "cell_type": "code",
   "execution_count": null,
   "metadata": {},
   "outputs": [],
   "source": [
    "small = Image.open('data/small-2-blur.png')"
   ]
  },
  {
   "cell_type": "code",
   "execution_count": null,
   "metadata": {},
   "outputs": [],
   "source": [
    "big = Image.open('data/big.png')\n",
    "big_color=big"
   ]
  },
  {
   "cell_type": "code",
   "execution_count": null,
   "metadata": {},
   "outputs": [],
   "source": [
    "small = small.resize((64,64))\n",
    "big=big.resize((256,256))\n",
    "\n",
    "# small=small.rotate(45,expand=1)\n",
    "# sv=small.rotate(90)\n",
    "# sv.save('results/rotate-45-90.png')\n",
    "# small.save('results/rotate45-2.png')"
   ]
  },
  {
   "cell_type": "code",
   "execution_count": null,
   "metadata": {},
   "outputs": [],
   "source": [
    "result=0"
   ]
  },
  {
   "cell_type": "code",
   "execution_count": null,
   "metadata": {},
   "outputs": [],
   "source": [
    "for i in range(256-64):\n",
    "    if i%5!=0:\n",
    "        continue\n",
    "        \n",
    "    for j in range(256-64):\n",
    "        if j%5!=0:\n",
    "            continue\n",
    "        \n",
    "        left=i\n",
    "        right = i+ 64\n",
    "        \n",
    "        top=j\n",
    "        bottom = j+64\n",
    "        \n",
    "        start_point=(left,top)\n",
    "        end_point=(right,bottom)\n",
    "        \n",
    "        crop=big.crop((left,top,right,bottom))\n",
    "\n",
    "#         hash0=imagehash.average_hash(small)\n",
    "        hash1=imagehash.average_hash(crop)\n",
    "        for r in range(360):\n",
    "            if r%5!=0:\n",
    "                continue                    \n",
    "            \n",
    "            small_test=small.rotate(r)\n",
    "            small_test=small\n",
    "\n",
    "            hash0=imagehash.average_hash(small_test)\n",
    "            \n",
    "           \n",
    "            if hash0 - hash1 <15:\n",
    "                cv_big = np.array(big_color.convert('RGB'))\n",
    "                cv_big=cv_big[:,:,::-1].copy()\n",
    "\n",
    "                result=cv2.rectangle(cv_big,start_point,end_point,color,thickness)\n",
    "                result = cv2.cvtColor(result,cv2.COLOR_BGR2RGB)\n",
    "                big_color=Image.fromarray(result)\n",
    "\n",
    "                small_test.save('test/small/{}-{}-{}.png'.format(i,j,r))\n",
    "                crop.save('test/crop/{}-{}-{}.png'.format(i,j,r))\n",
    "                \n",
    "                print(start_point,end_point)\n",
    "                break\n",
    "        \n",
    "\n"
   ]
  },
  {
   "cell_type": "code",
   "execution_count": null,
   "metadata": {},
   "outputs": [],
   "source": [
    "big_color.save('results/final_border.png')      \n",
    "        \n",
    "print('end')"
   ]
  },
  {
   "cell_type": "code",
   "execution_count": null,
   "metadata": {},
   "outputs": [],
   "source": []
  },
  {
   "cell_type": "code",
   "execution_count": null,
   "metadata": {},
   "outputs": [],
   "source": []
  }
 ],
 "metadata": {
  "kernelspec": {
   "display_name": "Python 3",
   "language": "python",
   "name": "python3"
  },
  "language_info": {
   "codemirror_mode": {
    "name": "ipython",
    "version": 3
   },
   "file_extension": ".py",
   "mimetype": "text/x-python",
   "name": "python",
   "nbconvert_exporter": "python",
   "pygments_lexer": "ipython3",
   "version": "3.7.5rc1"
  }
 },
 "nbformat": 4,
 "nbformat_minor": 4
}
